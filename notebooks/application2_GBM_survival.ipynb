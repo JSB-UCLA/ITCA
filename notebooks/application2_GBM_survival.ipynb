{
 "cells": [
  {
   "cell_type": "code",
   "execution_count": 2,
   "metadata": {
    "execution": {
     "iopub.execute_input": "2021-08-28T12:16:53.778020Z",
     "iopub.status.busy": "2021-08-28T12:16:53.778020Z",
     "iopub.status.idle": "2021-08-28T12:16:54.245963Z",
     "shell.execute_reply": "2021-08-28T12:16:54.245012Z",
     "shell.execute_reply.started": "2021-08-28T12:16:53.778020Z"
    },
    "tags": []
   },
   "outputs": [],
   "source": [
    "%matplotlib inline\n",
    "import seaborn as sns\n",
    "import matplotlib as mpl\n",
    "import numpy as np\n",
    "import pandas as pd\n",
    "import matplotlib.ticker\n",
    "import matplotlib.pyplot as plt\n",
    "import pickle\n",
    "import datetime\n",
    "import warnings\n",
    "from scipy.stats import kendalltau\n",
    "from itca import itca, GreedySearch, bidict, compute_y_dist\n",
    "from sklearn.metrics import pairwise_distances, accuracy_score\n",
    "from sklearn.model_selection import KFold, StratifiedKFold\n",
    "from lifelines import CoxPHFitter\n",
    "from aesthetics import params\n",
    "mpl.rcParams.update(params)"
   ]
  },
  {
   "cell_type": "code",
   "execution_count": 3,
   "metadata": {
    "execution": {
     "iopub.execute_input": "2021-08-28T12:16:59.895391Z",
     "iopub.status.busy": "2021-08-28T12:16:59.895391Z",
     "iopub.status.idle": "2021-08-28T12:16:59.958855Z",
     "shell.execute_reply": "2021-08-28T12:16:59.958855Z",
     "shell.execute_reply.started": "2021-08-28T12:16:59.895391Z"
    },
    "tags": []
   },
   "outputs": [],
   "source": [
    "#===================== Load data ============================\n",
    "data_path = \"../data/application2/gbm_tcga.csv\"\n",
    "gbm_df = pd.read_csv(data_path)\n",
    "gbm_df.shape\n",
    "gbm_df = gbm_df.drop(labels=['Study ID', 'Patient ID', 'Sample ID', 'Cancer Type Detailed', 'Number of Samples Per Patient', \n",
    "                   'Oncotree Code', 'Somatic Status', 'Sample Type', 'Cancer Type'], axis=1)\n",
    "Y = gbm_df[[\"Overall Survival (Months)\", \"Overall Survival Status\"]]\n",
    "gbm_df = gbm_df.drop(labels=[\"Overall Survival (Months)\", \"Overall Survival Status\"], axis=1)\n",
    "therapy = gbm_df[\"therapy\"].str.get_dummies(\",\") # 10 columns\n",
    "gbm_df = gbm_df.drop(labels=[\"therapy\", \"Mutation Count\"], axis=1)\n",
    "gbm_df_full = pd.concat([pd.get_dummies(gbm_df), therapy], axis=1)\n",
    "gbm_df_full = gbm_df_full.fillna(gbm_df_full.mean()) # impute nan with column means \n",
    "Y = Y.replace({\"1:DECEASED\": 1, \"0:LIVING\":0})\n",
    "isna = Y.isna().any(axis=1)\n",
    "gbm_df_full = gbm_df_full[~isna]\n",
    "Y = Y[~isna]\n",
    "Y_arr = Y.to_numpy()\n",
    "# Discretize survival month to 12 groups\n",
    "Y_arr[:, 0] = np.minimum(np.floor(Y[\"Overall Survival (Months)\"] / 3), 11)\n",
    "Y_arr[Y_arr[:, 0] == 11, 1] = 1 # set the last group status to 1\n",
    "X = gbm_df_full.to_numpy()"
   ]
  },
  {
   "cell_type": "code",
   "execution_count": 4,
   "metadata": {
    "execution": {
     "iopub.execute_input": "2021-08-28T12:17:04.790953Z",
     "iopub.status.busy": "2021-08-28T12:17:04.790953Z",
     "iopub.status.idle": "2021-08-28T12:17:05.838604Z",
     "shell.execute_reply": "2021-08-28T12:17:05.838604Z",
     "shell.execute_reply.started": "2021-08-28T12:17:04.790953Z"
    },
    "tags": []
   },
   "outputs": [],
   "source": [
    "#============================ Neural network help functions ===================================\n",
    "import torch\n",
    "import torch.nn as nn\n",
    "import torch.nn.functional as F\n",
    "import torch.optim as optim\n",
    "from torch.utils.data import TensorDataset, DataLoader\n",
    "from sklearn.model_selection import StratifiedKFold\n",
    "from sklearn.metrics import accuracy_score\n",
    "\n",
    "\n",
    "class Net(nn.Module):\n",
    "    def __init__(self, input_dim, output_dim, hidden_dim, activation=\"relu\"):\n",
    "        super(Net, self).__init__()\n",
    "        self.activation = \"relu\"\n",
    "        self.input_dim = input_dim\n",
    "        self.output_dim = output_dim\n",
    "        self.hidden_dim = hidden_dim\n",
    "        current_dim = input_dim\n",
    "        self.layers = nn.ModuleList()\n",
    "        for hdim in hidden_dim:\n",
    "            self.layers.append(nn.Linear(current_dim, hdim))\n",
    "            current_dim = hdim\n",
    "        self.layers.append(nn.Linear(current_dim, output_dim))\n",
    "\n",
    "    def forward(self, x):\n",
    "        for layer in self.layers[:-1]:\n",
    "            if self.activation == \"relu\":\n",
    "                x = F.relu(layer(x))\n",
    "            elif self.activation == \"sigmoid\":\n",
    "                x = F.sigmoid(layer(x))\n",
    "            else:\n",
    "                raise TypeError(\"Unknown activation function!\")\n",
    "        out = F.softmax(self.layers[-1](x), dim=1)\n",
    "        return out\n",
    "\n",
    "    \n",
    "def censored_cross_entropy(output, target, p_dist):\n",
    "    \"\"\"\n",
    "    My custom cross entropy for right censoring data.\n",
    "    output: [n_samples, n_class], each row sums up to 1.\n",
    "    target: [n_samples, 2],  the firt column indicates the the survaival group. \n",
    "    The second column indicates status of observation.\n",
    "    \"\"\"\n",
    "    log_out = torch.log(output)\n",
    "    loss1 = torch.sum(- log_out.gather(1, target[:, 0].long().view(-1, 1)) * target[:, 1].unsqueeze(1))\n",
    "    # loss for censored data \n",
    "    mask = torch.zeros_like(output)\n",
    "    p_dist_mat = p_dist.repeat(mask.shape[0], 1)\n",
    "    for row_idx, y in enumerate(target[:, 0]):\n",
    "        mask[torch.tensor(row_idx, dtype=torch.long), y.to(dtype=torch.long):] = 1\n",
    "    mask_p_dist = p_dist_mat * mask\n",
    "    weight = mask_p_dist / mask_p_dist.sum(dim=1).unsqueeze(1)\n",
    "    loss2 = torch.sum(-log_out * weight * (1 - target[:, 1].unsqueeze(1)))\n",
    "    return (loss1 + loss2) / output.shape[0]\n",
    "\n",
    "\n",
    "def train_model(train_loader, net, optimizer, loss_function, test_data,\n",
    "               n_epochs=300, verbose=False, p_dist=None):\n",
    "    running_loss = []\n",
    "    running_acc = []\n",
    "    X_test, Y_test = test_data\n",
    "    for epoch in range(n_epochs):\n",
    "        for i, data in enumerate(train_loader):\n",
    "            inputs, target = data\n",
    "            optimizer.zero_grad()\n",
    "            outputs = net(inputs)\n",
    "            if p_dist is not None:\n",
    "                loss = loss_function(outputs, target, p_dist)\n",
    "            else:\n",
    "                loss = loss_function(outputs, target)\n",
    "            loss.backward()\n",
    "            optimizer.step()\n",
    "            running_loss.append(loss.item())\n",
    "        pred = net(X_test)\n",
    "        pred = np.argmax(pred.detach().numpy(), axis=1)\n",
    "        acc = accuracy_score(Y_test[:, 0], pred)\n",
    "        running_acc.append(acc)\n",
    "        if verbose:\n",
    "            print('epoch: %d loss: %.3f test acc: %.3f' % \n",
    "                    (epoch + 1, running_loss[-1], acc))\n",
    "    return running_loss, running_acc\n",
    "\n",
    "\n",
    "def cross_validation(width=30, layers=3, activation=\"relu\"):\n",
    "    batch_size=64\n",
    "    n_epochs=150\n",
    "    hidden_layers = [width for dummy_i in range(layers)]\n",
    "    skf = StratifiedKFold(n_splits=5, shuffle=True)\n",
    "    acc_cv = []\n",
    "    print(\"width: %d layers: %d activation %s\" % (width, layers, activation))\n",
    "    for train_index, test_index in skf.split(X, Y_arr[:, 0]):\n",
    "        X_train, Y_train = X[train_index], Y_arr[train_index]\n",
    "        X_test, Y_test = X[test_index], Y_arr[test_index]\n",
    "        censored_idx = Y_test[:, 1] == 0\n",
    "        X_train = np.concatenate([X_train, X_test[censored_idx]])\n",
    "        Y_train = np.concatenate([\n",
    "            Y_train, Y_test[censored_idx]])\n",
    "        X_test = X_test[np.logical_not(censored_idx)]\n",
    "        Y_test = Y_test[np.logical_not(censored_idx)]\n",
    "        # construct dataloader\n",
    "        train_data = TensorDataset(torch.tensor(X_train).float(), \n",
    "                                    torch.tensor(Y_train).long())\n",
    "        net =  Net(36, 12, hidden_layers, activation=activation)\n",
    "        optimizer = optim.SGD(net.parameters(), lr=0.001, momentum=0.9,\n",
    "                      weight_decay=0.01)\n",
    "        _, running_acc = train_model(train_loader, net, optimizer, \n",
    "                                        censored_cross_entropy, \n",
    "                                        test_data, n_epochs=n_epochs, \n",
    "                                        verbose=False, p_dist=p_dist)\n",
    "        acc_cv.append(running_acc[-1])\n",
    "    return acc_cv"
   ]
  },
  {
   "cell_type": "markdown",
   "metadata": {},
   "source": [
    "## The proposed loss function, CCE, outperforms CE singnificantly"
   ]
  },
  {
   "cell_type": "code",
   "execution_count": 5,
   "metadata": {
    "execution": {
     "iopub.execute_input": "2021-08-27T06:47:43.132095Z",
     "iopub.status.busy": "2021-08-27T06:47:43.131111Z",
     "iopub.status.idle": "2021-08-27T06:48:07.642636Z",
     "shell.execute_reply": "2021-08-27T06:48:07.641638Z",
     "shell.execute_reply.started": "2021-08-27T06:47:43.132095Z"
    },
    "tags": []
   },
   "outputs": [
    {
     "name": "stdout",
     "output_type": "stream",
     "text": [
      "Test Accuracy of Censored Cross-entropy: 0.3186 (0.0315)\n",
      "Test Accuracy of Cross-entropy: 0.1085 (0.0701)\n"
     ]
    }
   ],
   "source": [
    "skf = StratifiedKFold(n_splits=5, shuffle=True)\n",
    "n_epochs = 150\n",
    "batch_size = 128\n",
    "acc_cce = []\n",
    "acc_ce = []\n",
    "_, p_dist = np.unique(Y_arr[:, 0], return_counts=True)\n",
    "p_dist = torch.from_numpy(p_dist / np.sum(p_dist))\n",
    "for i in range(1):\n",
    "    acc1, acc2 = [], []\n",
    "    for train_index, test_index in skf.split(X, Y_arr[:, 0]):\n",
    "        X_train, Y_train = X[train_index], Y_arr[train_index]\n",
    "        X_test, Y_test = X[test_index], Y_arr[test_index]\n",
    "        censored_idx = Y_test[:, 1] == 0\n",
    "        X_train1 = np.concatenate([X_train, X_test[censored_idx]])\n",
    "        Y_train1 = np.concatenate([Y_train, Y_test[censored_idx]])\n",
    "        X_test = X_test[np.logical_not(censored_idx)]\n",
    "        Y_test = Y_test[np.logical_not(censored_idx)]\n",
    "        X_train2 = X_train1[Y_train1[:, 1] == 1]\n",
    "        Y_train2 = Y_train1[Y_train1[:, 1] == 1]\n",
    "        # construct dataloader\n",
    "        train_data1 = TensorDataset(torch.tensor(X_train1).float(), \n",
    "                                    torch.tensor(Y_train1).long())\n",
    "        train_data2 = TensorDataset(torch.tensor(X_train2).float(), \n",
    "                                    torch.tensor(Y_train2[:, 0]).long())\n",
    "        test_data = (torch.tensor(X_test, dtype=torch.float), Y_test)\n",
    "        train_loader1= DataLoader(train_data1, batch_size=batch_size)\n",
    "        net1 = Net(36, 12, [40, 40, 40, 40])\n",
    "        optimizer1 = optim.SGD(net1.parameters(), lr=0.001, momentum=0.9,\n",
    "                          weight_decay=0.01)\n",
    "        _, running_acc1 = train_model(train_loader1, net1, optimizer1, \n",
    "                                            censored_cross_entropy, \n",
    "                                            test_data, n_epochs=n_epochs, \n",
    "                                            verbose=False, p_dist=p_dist)\n",
    "        acc1.append(running_acc1[-1])\n",
    "        train_loader2= DataLoader(train_data2, batch_size=batch_size)\n",
    "        net2 = Net(36, 12, [40, 40, 40, 40])\n",
    "        optimizer2 = optim.SGD(net2.parameters(), lr=0.001, momentum=0.9,\n",
    "                          weight_decay=0.01)\n",
    "        _, running_acc2 = train_model(train_loader2, net2, optimizer2, \n",
    "                                            nn.CrossEntropyLoss(), \n",
    "                                            test_data, n_epochs=n_epochs, \n",
    "                                            verbose=False, p_dist=None)\n",
    "        acc2.append(running_acc2[-1])\n",
    "    acc_cce.append(acc1)\n",
    "    acc_ce.append(acc2)\n",
    "# The censored cross entropy outperforms the classical cross entropy loss significantly\n",
    "print(\"Test Accuracy of Censored Cross-entropy: %.4f (%.4f)\" \\\n",
    "      %(np.mean(acc1), np.std(acc1)))\n",
    "print(\"Test Accuracy of Cross-entropy: %.4f (%.4f)\"\\\n",
    "      %(np.mean(acc2), np.std(acc2)))"
   ]
  },
  {
   "cell_type": "code",
   "execution_count": 23,
   "metadata": {
    "execution": {
     "iopub.execute_input": "2021-08-27T07:25:58.793018Z",
     "iopub.status.busy": "2021-08-27T07:25:58.793018Z",
     "iopub.status.idle": "2021-08-27T07:25:58.824934Z",
     "shell.execute_reply": "2021-08-27T07:25:58.823934Z",
     "shell.execute_reply.started": "2021-08-27T07:25:58.793018Z"
    },
    "tags": []
   },
   "outputs": [],
   "source": [
    "# help functions for manipulate the combination mapping \n",
    "def combine_i_j(i, j, mapping):\n",
    "    next_mapping = dict()\n",
    "    for key in mapping.inverse:\n",
    "        if key < j:\n",
    "            next_mapping.update({e: key for e in mapping.inverse[key]})\n",
    "        elif key > j:\n",
    "            next_mapping.update({e: key - 1 for e in mapping.inverse[key]})\n",
    "        else:\n",
    "            next_mapping.update({e: i for e in mapping.inverse[key]})\n",
    "    return bidict(next_mapping)\n",
    "\n",
    "def next_mapping(mapping):\n",
    "    for i in range(len(mapping.inverse) - 1):\n",
    "        yield combine_i_j(i, i + 1, mapping)\n",
    "\n",
    "def eval_model_cv(X_arr, Y_arr, mapping, nfolds=5,  n_epochs=150, \n",
    "                  batch_size=64, seed=None, layers=None, activation=\"relu\",\n",
    "                 opt_params={\"lr\": 0.001, \"momentum\": 0.9,\n",
    "                          \"weight_decay\": 0.01}):\n",
    "    skf = StratifiedKFold(n_splits=5, shuffle=True, random_state=seed)\n",
    "    Y_arr_ = np.copy(Y_arr)\n",
    "    Y_arr_[:, 0] = mapping.map(Y_arr_[:, 0])\n",
    "    n_classes = np.unique(Y_arr_[:, 0]).size\n",
    "    y_dist = compute_y_dist(Y_arr[:, 0])\n",
    "    _, p_dist_ = np.unique(Y_arr_[:, 0], return_counts=True)\n",
    "    p_dist_ = torch.from_numpy(p_dist_ / np.sum(p_dist_))\n",
    "    res = {\"ACC\": [], \"ITCA\": [], \"tau\": []}\n",
    "    for train_index, test_index in skf.split(X, Y_arr_[:, 0]):\n",
    "        X_train, Y_train = X[train_index], Y_arr_[train_index]\n",
    "        X_test, Y_test = X[test_index], Y_arr_[test_index]\n",
    "        censored_idx = Y_test[:, 1] == 0\n",
    "        X_train = np.concatenate([X_train, X_test[censored_idx]])\n",
    "        Y_train = np.concatenate([Y_train, Y_test[censored_idx]])\n",
    "        X_test = X_test[np.logical_not(censored_idx)]\n",
    "        Y_test = Y_test[np.logical_not(censored_idx)]\n",
    "        # construct dataloader\n",
    "        train_data = TensorDataset(torch.tensor(X_train).float(), \n",
    "                                    torch.tensor(Y_train).long())\n",
    "        test_data = (torch.tensor(X_test, dtype=torch.float), Y_test)\n",
    "        train_loader = DataLoader(train_data, batch_size=batch_size)\n",
    "        if layers is None:\n",
    "            layers = [40, 40, 40]\n",
    "        net = Net(36, n_classes, layers, activation=activation)\n",
    "        optimizer = optim.SGD(net.parameters(), **opt_params)\n",
    "        _, running_acc1 = train_model(train_loader, net, optimizer, \n",
    "                                            censored_cross_entropy, \n",
    "                                            test_data, n_epochs=n_epochs, \n",
    "                                            verbose=False, p_dist=p_dist_)\n",
    "        # compute measures\n",
    "        y_pred = net(test_data[0])\n",
    "        y_pred = np.argmax(y_pred.detach().numpy(), axis=1)\n",
    "        y_test = Y_arr[test_index][np.logical_not(censored_idx)][:, 0]\n",
    "        res[\"ACC\"].append(accuracy_score(mapping.map(y_test), y_pred))\n",
    "        res[\"ITCA\"].append(itca(y_test, y_pred, mapping, y_dist=y_dist))\n",
    "        res[\"tau\"].append(kendalltau(y_pred, y_test))\n",
    "    return res"
   ]
  },
  {
   "cell_type": "code",
   "execution_count": 16,
   "metadata": {
    "execution": {
     "iopub.execute_input": "2021-08-27T07:09:11.774013Z",
     "iopub.status.busy": "2021-08-27T07:09:11.774013Z",
     "iopub.status.idle": "2021-08-27T07:09:11.793960Z",
     "shell.execute_reply": "2021-08-27T07:09:11.792982Z",
     "shell.execute_reply.started": "2021-08-27T07:09:11.774013Z"
    },
    "tags": []
   },
   "outputs": [],
   "source": [
    "def greedy_search_cv(X_arr, Y_arr, outpath=\"survival_checkpoint.pkl\", seed=None, layers=None, activation=\"relu\",\n",
    "                    opt_params={\"lr\": 0.001, \"momentum\": 0.9,\n",
    "                          \"weight_decay\": 0.01}):\n",
    "    measures = [\"ACC\", \"ITCA\", 'tau']\n",
    "    n_classes = np.unique(Y_arr[:, 0]).shape[0]\n",
    "    cur_mapping = bidict({i:i for i in range(n_classes)})\n",
    "    path = {key: [] for key in measures}\n",
    "    path['pval'] = []\n",
    "    path[\"mapping\"] = []\n",
    "    path[\"mapping\"].append(cur_mapping)\n",
    "    res = eval_model_cv(X, Y_arr, cur_mapping, seed=seed, layers=layers, activation=activation,\n",
    "                       opt_params=opt_params)\n",
    "    for measure in measures:\n",
    "        if measure == \"tau\":\n",
    "            path[measure].append([tau[0] for tau in res[\"tau\"]])\n",
    "            path['pval'].append([tau[1] for tau in res[\"tau\"]])\n",
    "        else:\n",
    "            path[measure].append(res[measure])\n",
    "    while len(cur_mapping.inverse) > 2:\n",
    "        acc_l = []\n",
    "        itca_l = []\n",
    "        tau_l = []\n",
    "        mapping_l = []\n",
    "        pval_l = []\n",
    "        now = datetime.datetime.now()\n",
    "        print(\"========={}=============\".format(now.strftime(\"%Y-%m-%d %H:%M:%S\")))\n",
    "        print(\"Start search....\")\n",
    "        for mapping_k in next_mapping(cur_mapping):\n",
    "            res = eval_model_cv(X, Y_arr, mapping_k, seed=seed, layers=layers, activation=activation,\n",
    "                       opt_params=opt_params)\n",
    "            mapping_l.append(mapping_k)\n",
    "            acc_l.append(res[\"ACC\"])\n",
    "            itca_l.append(res[\"ITCA\"])\n",
    "            tau_l.append([tau[0] for tau in res[\"tau\"]])\n",
    "            pval_l.append([tau[1] for tau in res[\"tau\"]])\n",
    "        idx_max = np.argmax([np.mean(l) for l in itca_l])\n",
    "        # save the results to path\n",
    "        path[\"mapping\"].append(mapping_l[idx_max])\n",
    "        path[\"ITCA\"].append(itca_l[idx_max])\n",
    "        path[\"ACC\"].append(acc_l[idx_max])\n",
    "        path[\"tau\"].append(tau_l[idx_max])\n",
    "        path[\"pval\"].append(pval_l[idx_max])\n",
    "        cur_mapping = mapping_l[idx_max]\n",
    "        # save results at each iteration\n",
    "        with open(outpath, 'wb') as handle:\n",
    "            check_point = dict()\n",
    "            check_point[\"mapping\"] = [dict(m) for m in path[\"mapping\"]]\n",
    "            check_point[\"ITCA\"] = path[\"ITCA\"]\n",
    "            check_point[\"ACC\"] = path[\"ACC\"]\n",
    "            check_point[\"tau\"] = path[\"tau\"]\n",
    "            pickle.dump(check_point, handle, \n",
    "                        protocol=pickle.HIGHEST_PROTOCOL)\n",
    "        now = datetime.datetime.now()\n",
    "        print(\"========={}=============\".format(now.strftime(\"%Y-%m-%d %H:%M:%S\")))\n",
    "        print(\"Round={}||Write in {}\".format(12 - len(cur_mapping.inverse), outpath))\n",
    "    return path"
   ]
  },
  {
   "cell_type": "code",
   "execution_count": 281,
   "metadata": {
    "scrolled": true
   },
   "outputs": [
    {
     "name": "stdout",
     "output_type": "stream",
     "text": [
      "=========2021-01-12 20:32:08=============\n",
      "Start search....\n",
      "=========2021-01-12 20:38:05=============\n",
      "Round=1||Write in survival_checkpoint.pkl\n",
      "=========2021-01-12 20:38:05=============\n",
      "Start search....\n",
      "=========2021-01-12 20:43:29=============\n",
      "Round=2||Write in survival_checkpoint.pkl\n",
      "=========2021-01-12 20:43:29=============\n",
      "Start search....\n",
      "=========2021-01-12 20:48:30=============\n",
      "Round=3||Write in survival_checkpoint.pkl\n",
      "=========2021-01-12 20:48:30=============\n",
      "Start search....\n",
      "=========2021-01-12 20:52:56=============\n",
      "Round=4||Write in survival_checkpoint.pkl\n",
      "=========2021-01-12 20:52:56=============\n",
      "Start search....\n",
      "=========2021-01-12 20:56:42=============\n",
      "Round=5||Write in survival_checkpoint.pkl\n",
      "=========2021-01-12 20:56:42=============\n",
      "Start search....\n",
      "=========2021-01-12 20:59:53=============\n",
      "Round=6||Write in survival_checkpoint.pkl\n",
      "=========2021-01-12 20:59:53=============\n",
      "Start search....\n",
      "=========2021-01-12 21:02:30=============\n",
      "Round=7||Write in survival_checkpoint.pkl\n",
      "=========2021-01-12 21:02:30=============\n",
      "Start search....\n",
      "=========2021-01-12 21:04:37=============\n",
      "Round=8||Write in survival_checkpoint.pkl\n",
      "=========2021-01-12 21:04:37=============\n",
      "Start search....\n",
      "=========2021-01-12 21:06:10=============\n",
      "Round=9||Write in survival_checkpoint.pkl\n",
      "=========2021-01-12 21:06:10=============\n",
      "Start search....\n",
      "=========2021-01-12 21:07:13=============\n",
      "Round=10||Write in survival_checkpoint.pkl\n"
     ]
    }
   ],
   "source": [
    "# It takes around ~1 hour on a destop computer with GTX 1080 card\n",
    "path = greedy_search_cv(X, Y_arr, seed=2021,  outpath=\"../data/application2/survival_checkpoint.pkl\")"
   ]
  },
  {
   "cell_type": "code",
   "execution_count": 7,
   "metadata": {
    "execution": {
     "iopub.execute_input": "2021-08-28T12:19:10.203279Z",
     "iopub.status.busy": "2021-08-28T12:19:10.203279Z",
     "iopub.status.idle": "2021-08-28T12:19:10.224222Z",
     "shell.execute_reply": "2021-08-28T12:19:10.223225Z",
     "shell.execute_reply.started": "2021-08-28T12:19:10.203279Z"
    },
    "tags": []
   },
   "outputs": [],
   "source": [
    "file = open(\"../data/application2/survival_checkpoint.pkl\", 'rb')\n",
    "path = pickle.load(file) \n",
    "ind_max = np.argmax([np.mean(itca_l) for itca_l in path[\"ITCA\"]])\n",
    "best_mapping = bidict(path[\"mapping\"][ind_max])\n",
    "mapping0 = bidict(path[\"mapping\"][0])\n",
    "ind_max = np.argmax([np.mean(itca_l) for itca_l in path[\"ITCA\"]])\n",
    "best_mapping = path[\"mapping\"][ind_max]\n",
    "factor = np.sqrt(5)\n",
    "itca_mean = np.array([np.mean(itca_l) for itca_l in path[\"ITCA\"]])\n",
    "itca_std = np.array([np.std(itca_l) for itca_l in path[\"ITCA\"]]) / factor\n",
    "acc_mean = np.array([np.mean(acc_l) for acc_l in path[\"ACC\"]])\n",
    "acc_std = np.array([np.std(acc_l) for acc_l in path[\"ACC\"]]) / factor\n",
    "tau_mean = np.array([np.mean(tau_l) for tau_l in path[\"tau\"]])\n",
    "tau_std = np.array([np.std(tau_l) for tau_l in path[\"tau\"]])  / factor"
   ]
  },
  {
   "cell_type": "code",
   "execution_count": 38,
   "metadata": {
    "execution": {
     "iopub.execute_input": "2021-08-27T07:34:32.775626Z",
     "iopub.status.busy": "2021-08-27T07:34:32.775626Z",
     "iopub.status.idle": "2021-08-27T07:35:15.547484Z",
     "shell.execute_reply": "2021-08-27T07:35:15.547484Z",
     "shell.execute_reply.started": "2021-08-27T07:34:32.775626Z"
    },
    "tags": []
   },
   "outputs": [],
   "source": [
    "res1 = eval_model_cv(X, Y_arr, mapping0, seed=2021, \n",
    "                    opt_params={\"lr\": 0.001, \"momentum\": 0.9,\n",
    "                          \"weight_decay\": 0.01})\n"
   ]
  },
  {
   "cell_type": "code",
   "execution_count": 47,
   "metadata": {
    "execution": {
     "iopub.execute_input": "2021-08-27T07:40:11.180195Z",
     "iopub.status.busy": "2021-08-27T07:40:11.180195Z",
     "iopub.status.idle": "2021-08-27T07:40:31.608074Z",
     "shell.execute_reply": "2021-08-27T07:40:31.608074Z",
     "shell.execute_reply.started": "2021-08-27T07:40:11.180195Z"
    },
    "tags": []
   },
   "outputs": [],
   "source": [
    "res2 = eval_model_cv(X, Y_arr, best_mapping, seed=2021, opt_params={\"lr\": 0.001, \"momentum\": 0.9,\n",
    "                          \"weight_decay\": 0.01})"
   ]
  },
  {
   "cell_type": "markdown",
   "metadata": {},
   "source": [
    "## Figure 7: Results of GBM survival prediction. Three criteria, ACC, ITCA and Kendall's tau coefficient,"
   ]
  },
  {
   "cell_type": "code",
   "execution_count": 10,
   "metadata": {
    "execution": {
     "iopub.execute_input": "2021-08-28T12:21:24.301350Z",
     "iopub.status.busy": "2021-08-28T12:21:24.301350Z",
     "iopub.status.idle": "2021-08-28T12:21:25.104467Z",
     "shell.execute_reply": "2021-08-28T12:21:25.103505Z",
     "shell.execute_reply.started": "2021-08-28T12:21:24.301350Z"
    },
    "tags": []
   },
   "outputs": [
    {
     "data": {
      "image/png": "[encoded data removed]",
      "text/plain": [
       "<Figure size 675x525 with 3 Axes>"
      ]
     },
     "metadata": {
      "needs_background": "light"
     },
     "output_type": "display_data"
    }
   ],
   "source": [
    "# third y-axis\n",
    "def make_patch_spines_invisible(ax):\n",
    "    ax.set_frame_on(True)\n",
    "    ax.patch.set_visible(False)\n",
    "    for sp in ax.spines.values():\n",
    "        sp.set_visible(False)\n",
    "        \n",
    "fig, host = plt.subplots()\n",
    "fig.subplots_adjust(right=0.75)\n",
    "par1 = host.twinx()\n",
    "par2 = host.twinx()\n",
    "par2.spines[\"right\"].set_position((\"axes\", 1.2))\n",
    "curve1, = host.plot(itca_mean, label=\"ITCA\", color=\"#F20708\", \n",
    "        marker=\"o\", linestyle=\"--\", alpha=0.75)\n",
    "host.fill_between(np.arange(itca_mean.size), itca_mean - itca_std, \n",
    "                itca_mean + itca_std,\n",
    "                alpha=0.2, color=\"#F20708\")\n",
    "curve2, = par2.plot(tau_mean, label=\"Kendall's tau\", color=\"#1a9641\",\n",
    "        marker=\"s\", linestyle=\"--\", alpha=0.75)\n",
    "par2.fill_between(np.arange(tau_mean.size), tau_mean - tau_std, \n",
    "                   tau_mean + tau_std,\n",
    "                alpha=0.2, color=\"#1a9641\")\n",
    "curve3, = par1.plot(acc_mean, label=\"ACC\", color=\"#3C8ABE\",\n",
    "        marker=\"v\", linestyle=\"--\", alpha=0.75)\n",
    "par1.fill_between(np.arange(acc_mean.size), acc_mean - acc_std * factor, acc_mean + acc_std * factor,\n",
    "                alpha=0.2, color=\"#3C8ABE\")\n",
    "host.axvline(x=ind_max, linestyle=\"--\", color=\"#F20708\", alpha=0.5)\n",
    "\n",
    "host.set_ylabel(\"ITCA\")\n",
    "par2.set_ylabel(\"Kendall's tau\")\n",
    "par1.set_ylabel(\"ACC\")\n",
    "curves = [curve1, curve2, curve3]\n",
    "host.legend(curves, [curve.get_label() for curve in curves], loc=\"upper left\")\n",
    "host.set_xticks([0, 2, 4, 6, 8, 10])\n",
    "host.set_xticklabels([12, 10, 8, 6, 4, 2])\n",
    "host.set_xlabel(\"$K$\")\n",
    "host.set_ylim([0.4, 1.1])\n",
    "par2.set_ylim([0.4, 0.8])\n",
    "fig.set_size_inches(4.5, 3.5)\n",
    "plt.tight_layout()\n",
    "plt.savefig(\"survival_prediction_cv_3yaxis_adjust_std.png\",dpi=600)"
   ]
  },
  {
   "cell_type": "markdown",
   "metadata": {},
   "source": [
    "## Table 7: Performance of survival prediction algorithms on the GBM dataset."
   ]
  },
  {
   "cell_type": "code",
   "execution_count": 4,
   "metadata": {
    "execution": {
     "iopub.execute_input": "2021-08-27T07:14:01.478796Z",
     "iopub.status.busy": "2021-08-27T07:14:01.478796Z",
     "iopub.status.idle": "2021-08-27T07:14:01.498712Z",
     "shell.execute_reply": "2021-08-27T07:14:01.497714Z",
     "shell.execute_reply.started": "2021-08-27T07:14:01.478796Z"
    },
    "tags": []
   },
   "outputs": [],
   "source": [
    "def print_table_row(res, name, factor=1 / np.sqrt(5)):\n",
    "    tau_l = res[\"tau\"]\n",
    "    itca_l = [itca for itca in res[\"ITCA\"]]\n",
    "    cor = []\n",
    "    pvals = []\n",
    "    for tau in tau_l:\n",
    "        cor.append(tau[0])\n",
    "        pvals.append(tau[1])\n",
    "    print(\"%s& $%.4f \\pm %.4f$ & $%.4f \\pm %.4f$ &%.2e\" % (name, \n",
    "            np.mean(itca_l), np.std(itca_l) * factor, \n",
    "            np.mean(cor), np.std(cor) * factor, np.mean(pvals)))"
   ]
  },
  {
   "cell_type": "code",
   "execution_count": 84,
   "metadata": {},
   "outputs": [
    {
     "name": "stdout",
     "output_type": "stream",
     "text": [
      "=========2021-07-25 23:29:23=============\n",
      "Start search....\n",
      "=========2021-07-25 23:33:40=============\n",
      "Round=1||Write in survival_checkpoint_lr.pkl\n",
      "=========2021-07-25 23:33:40=============\n",
      "Start search....\n",
      "=========2021-07-25 23:37:33=============\n",
      "Round=2||Write in survival_checkpoint_lr.pkl\n",
      "=========2021-07-25 23:37:33=============\n",
      "Start search....\n",
      "=========2021-07-25 23:41:08=============\n",
      "Round=3||Write in survival_checkpoint_lr.pkl\n",
      "=========2021-07-25 23:41:08=============\n",
      "Start search....\n",
      "=========2021-07-25 23:44:18=============\n",
      "Round=4||Write in survival_checkpoint_lr.pkl\n",
      "=========2021-07-25 23:44:18=============\n",
      "Start search....\n",
      "=========2021-07-25 23:47:04=============\n",
      "Round=5||Write in survival_checkpoint_lr.pkl\n",
      "=========2021-07-25 23:47:04=============\n",
      "Start search....\n",
      "=========2021-07-25 23:49:26=============\n",
      "Round=6||Write in survival_checkpoint_lr.pkl\n",
      "=========2021-07-25 23:49:26=============\n",
      "Start search....\n",
      "=========2021-07-25 23:51:25=============\n",
      "Round=7||Write in survival_checkpoint_lr.pkl\n",
      "=========2021-07-25 23:51:25=============\n",
      "Start search....\n",
      "=========2021-07-25 23:53:01=============\n",
      "Round=8||Write in survival_checkpoint_lr.pkl\n",
      "=========2021-07-25 23:53:01=============\n",
      "Start search....\n",
      "=========2021-07-25 23:54:11=============\n",
      "Round=9||Write in survival_checkpoint_lr.pkl\n",
      "=========2021-07-25 23:54:11=============\n",
      "Start search....\n",
      "=========2021-07-25 23:54:58=============\n",
      "Round=10||Write in survival_checkpoint_lr.pkl\n"
     ]
    }
   ],
   "source": [
    "# greedy search of LR model\n",
    "# Run this code by uncomment the below line\n",
    "# lr_path = greedy_search_cv(X, Y_arr, outpath=\"survival_checkpoint_lr.pkl\", seed=2021, layers=[], activation='sigmoid')"
   ]
  },
  {
   "cell_type": "code",
   "execution_count": 21,
   "metadata": {
    "execution": {
     "iopub.execute_input": "2021-08-27T07:25:39.444524Z",
     "iopub.status.busy": "2021-08-27T07:25:39.444524Z",
     "iopub.status.idle": "2021-08-27T07:25:39.449510Z",
     "shell.execute_reply": "2021-08-27T07:25:39.449510Z",
     "shell.execute_reply.started": "2021-08-27T07:25:39.444524Z"
    },
    "tags": []
   },
   "outputs": [],
   "source": [
    "file = open(\"survival_checkpoint_lr.pkl\", 'rb')\n",
    "lr_path = pickle.load(file) \n",
    "ind_max = np.argmax([np.mean(itca_l) for itca_l in lr_path[\"ITCA\"]])\n",
    "best_mapping = bidict(lr_path[\"mapping\"][ind_max])"
   ]
  },
  {
   "cell_type": "code",
   "execution_count": 24,
   "metadata": {
    "execution": {
     "iopub.execute_input": "2021-08-27T07:26:05.624498Z",
     "iopub.status.busy": "2021-08-27T07:26:05.624498Z",
     "iopub.status.idle": "2021-08-27T07:26:30.588886Z",
     "shell.execute_reply": "2021-08-27T07:26:30.588058Z",
     "shell.execute_reply.started": "2021-08-27T07:26:05.624498Z"
    },
    "tags": []
   },
   "outputs": [],
   "source": [
    "# LR model\n",
    "lr_model1 = Net(36, len(mapping0.inverse), [], activation=\"sigmoid\")\n",
    "lr_model2 = Net(36, len(best_mapping.inverse), [], activation=\"sigmoid\")\n",
    "\n",
    "res_lr1 = eval_model_cv(X, Y_arr, mapping0, seed=2021, layers=[], \n",
    "                        activation=\"sigmoid\",\n",
    "                       opt_params={\"lr\": 0.0001, \"momentum\": 0.9,\n",
    "                          \"weight_decay\": 0})\n",
    "res_lr2 = eval_model_cv(X, Y_arr, best_mapping, seed=2021, layers=[], \n",
    "                        activation=\"sigmoid\",\n",
    "                       opt_params={\"lr\": 0.0001, \"momentum\": 0.9,\n",
    "                          \"weight_decay\": 0})"
   ]
  },
  {
   "cell_type": "code",
   "execution_count": 34,
   "metadata": {
    "execution": {
     "iopub.execute_input": "2021-08-27T07:32:58.555749Z",
     "iopub.status.busy": "2021-08-27T07:32:58.554749Z",
     "iopub.status.idle": "2021-08-27T07:32:59.362352Z",
     "shell.execute_reply": "2021-08-27T07:32:59.361352Z",
     "shell.execute_reply.started": "2021-08-27T07:32:58.555749Z"
    },
    "tags": []
   },
   "outputs": [
    {
     "name": "stdout",
     "output_type": "stream",
     "text": [
      "Warning: convergence error occurs!\n"
     ]
    }
   ],
   "source": [
    "#================================ Fit cox model ====================================\n",
    "gbm_df_event = pd.concat([gbm_df_full, Y], axis=1)\n",
    "# train model\n",
    "cph = CoxPHFitter(penalizer=0.1)\n",
    "my_df = gbm_df_event\n",
    "my_df = gbm_df_event.drop(columns='IDH1 Mutation_R132G')\n",
    "# Have to drop those variable to make the cox converge to a feasible solution\n",
    "y_df = my_df.drop(columns=['TMZ Chemo', ' Alkylating Chemo', 'Alkylating Chemo',\n",
    "    'Alkylating Chemoradiation'])\n",
    "warnings.filterwarnings('ignore')\n",
    "cph_tau = []\n",
    "skf = StratifiedKFold(n_splits=5, shuffle=True, random_state=0)\n",
    "for train_index, test_index in skf.split(X, Y_arr[:, 0]):\n",
    "    train_df = my_df.iloc[train_index]\n",
    "    test_df = my_df.iloc[test_index]\n",
    "    censored_idx = test_df[\"Overall Survival Status\"] == 0\n",
    "    train_df = pd.concat([train_df, test_df[censored_idx]], axis=0)\n",
    "    test_df = test_df[~censored_idx]\n",
    "    try:\n",
    "        cph.fit(train_df, duration_col=\"Overall Survival (Months)\", \n",
    "           event_col=\"Overall Survival Status\", step_size=0.1)\n",
    "    except:\n",
    "        print(\"Warning: convergence error occurs!\")\n",
    "    risk_score = cph.predict_partial_hazard(test_df)\n",
    "    cph_tau.append(kendalltau(test_df[\"Overall Survival (Months)\"], \n",
    "           -cph.predict_partial_hazard(test_df))) "
   ]
  },
  {
   "cell_type": "code",
   "execution_count": 43,
   "metadata": {
    "execution": {
     "iopub.execute_input": "2021-08-27T07:38:22.833661Z",
     "iopub.status.busy": "2021-08-27T07:38:22.833661Z",
     "iopub.status.idle": "2021-08-27T07:38:22.845634Z",
     "shell.execute_reply": "2021-08-27T07:38:22.844631Z",
     "shell.execute_reply.started": "2021-08-27T07:38:22.833661Z"
    },
    "tags": []
   },
   "outputs": [],
   "source": [
    "cox_tau = list(map(lambda x: x[0], cph_tau))\n",
    "cox_pvals = list(map(lambda x: x[1], cph_tau))"
   ]
  },
  {
   "cell_type": "code",
   "execution_count": null,
   "metadata": {
    "tags": []
   },
   "outputs": [],
   "source": [
    "print_table_row(res1, \"NN (no combination)\")\n",
    "print_table_row(res_lr1, \"LR (no combination)\")\n",
    "print_table_row(res2, \"NN (ITCA-guided)\")\n",
    "print_table_row(res_lr2, \"LR (ITCA-guided)\")\n",
    "print(\"Cox regression (risk scores), {:.4f} ({:.4f}) & {})\".format(np.mean(cox_tau), \n",
    "                                                                               np.std(cox_tau),\n",
    "                                                                               np.mean(cox_pvals),                                                                        \n",
    "                                                                              ))"
   ]
  }
 ],
 "metadata": {
  "kernelspec": {
   "display_name": "Python 3",
   "language": "python",
   "name": "python3"
  },
  "language_info": {
   "codemirror_mode": {
    "name": "ipython",
    "version": 3
   },
   "file_extension": ".py",
   "mimetype": "text/x-python",
   "name": "python",
   "nbconvert_exporter": "python",
   "pygments_lexer": "ipython3",
   "version": "3.8.8"
  }
 },
 "nbformat": 4,
 "nbformat_minor": 4
}
